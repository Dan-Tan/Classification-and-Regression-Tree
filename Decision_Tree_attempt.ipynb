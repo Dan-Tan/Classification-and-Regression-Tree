{
  "nbformat": 4,
  "nbformat_minor": 0,
  "metadata": {
    "colab": {
      "name": "Decision Tree attempt",
      "provenance": [],
      "collapsed_sections": [],
      "include_colab_link": true
    },
    "kernelspec": {
      "name": "python3",
      "display_name": "Python 3"
    },
    "accelerator": "GPU"
  },
  "cells": [
    {
      "cell_type": "markdown",
      "metadata": {
        "id": "view-in-github",
        "colab_type": "text"
      },
      "source": [
        "<a href=\"https://colab.research.google.com/github/Dan-Tan/Classification-and-Regression-Tree/blob/main/Decision_Tree_attempt.ipynb\" target=\"_parent\"><img src=\"https://colab.research.google.com/assets/colab-badge.svg\" alt=\"Open In Colab\"/></a>"
      ]
    },
    {
      "cell_type": "code",
      "metadata": {
        "id": "IYOyQ3Td8y0X",
        "colab": {
          "base_uri": "https://localhost:8080/",
          "height": 124
        },
        "outputId": "1b220267-44a4-452a-e53e-0eb495bb4d87"
      },
      "source": [
        "# from google.colab import drive\n",
        "# drive.mount('/content/drive/')"
      ],
      "execution_count": null,
      "outputs": [
        {
          "output_type": "stream",
          "text": [
            "Go to this URL in a browser: https://accounts.google.com/o/oauth2/auth?client_id=947318989803-6bn6qk8qdgf4n4g3pfee6491hc0brc4i.apps.googleusercontent.com&redirect_uri=urn%3aietf%3awg%3aoauth%3a2.0%3aoob&response_type=code&scope=email%20https%3a%2f%2fwww.googleapis.com%2fauth%2fdocs.test%20https%3a%2f%2fwww.googleapis.com%2fauth%2fdrive%20https%3a%2f%2fwww.googleapis.com%2fauth%2fdrive.photos.readonly%20https%3a%2f%2fwww.googleapis.com%2fauth%2fpeopleapi.readonly\n",
            "\n",
            "Enter your authorization code:\n",
            "··········\n",
            "Mounted at /content/drive/\n"
          ],
          "name": "stdout"
        }
      ]
    },
    {
      "cell_type": "code",
      "metadata": {
        "id": "i7AuTWIS9IjF"
      },
      "source": [
        "import numpy as np\n",
        "import os\n",
        "import matplotlib.pyplot as plt\n",
        "import pandas as pd"
      ],
      "execution_count": null,
      "outputs": []
    },
    {
      "cell_type": "code",
      "metadata": {
        "id": "ztW1xSlj9QRJ"
      },
      "source": [
        "data = np.load('/content/drive/My Drive/Colab Notebooks/Training Data Testing/testingdata.npy')\n"
      ],
      "execution_count": null,
      "outputs": []
    },
    {
      "cell_type": "code",
      "metadata": {
        "id": "gTbs3qQlCh7d"
      },
      "source": [
        "#calculating the purity of data set using gini impurity entropy requires more computation and data set is large\n",
        "def calc_gini_index(data):\n",
        "    if len(data) > 0:\n",
        "        _, freq = np.unique(data[:, 81], return_counts = True)\n",
        "        if freq.shape == (2,):\n",
        "            neg, pos =  freq\n",
        "        else:\n",
        "            neg, pos = freq, 0\n",
        "        rows_ = len(data[:, 81])\n",
        "        prob_pos = pos / rows_\n",
        "        prob_neg = neg / rows_\n",
        "        gini_index = 1 - (prob_pos**2 + prob_neg**2)\n",
        "        return gini_index\n",
        "    else: \n",
        "        gini_index = 0\n",
        "        return gini_index\n"
      ],
      "execution_count": null,
      "outputs": []
    },
    {
      "cell_type": "code",
      "metadata": {
        "id": "A88DHkUgP7Tz"
      },
      "source": [
        "#calculates the information gain after the split is made using gini impurity\n",
        "def information_gain(parent_data, spltL, spltR):\n",
        "    gini_spltL = calc_gini_index(spltL)\n",
        "    gini_spltR = calc_gini_index(spltR)\n",
        "    info_gain = (calc_gini_index(parent_data) - (calc_gini_index(spltL) * (len(spltL[:, 81])/len(parent_data[:, 81]))+\\\n",
        "                                                 calc_gini_index(spltR) * (len(spltR[:, 81])/len(parent_data[:, 81]))))\n",
        "    return info_gain\n",
        "\n",
        "\n"
      ],
      "execution_count": null,
      "outputs": []
    },
    {
      "cell_type": "code",
      "metadata": {
        "id": "Y-I-IwwLZpJP"
      },
      "source": [
        "#getting all the possible splits a node can  make, not evaluating the information gain of making each split\n",
        "def get_possible_splits(data):\n",
        "\n",
        "    pos_splts = {}\n",
        "\n",
        "    for i in range(len(data.T)-1):\n",
        "        splt_vals = np.empty([1,])\n",
        "\n",
        "        for e in range(16):\n",
        "            splt_val = np.array([15 * e])\n",
        "            splt_vals = np.concatenate((splt_vals, splt_val))\n",
        "\n",
        "        splt_vals = tuple(splt_vals[1:])\n",
        "        possible_splts = {i: splt_vals}\n",
        "        pos_splts.update(possible_splts)\n",
        "\n",
        "    return pos_splts\n"
      ],
      "execution_count": null,
      "outputs": []
    },
    {
      "cell_type": "code",
      "metadata": {
        "id": "ZwiewGoT6gsm"
      },
      "source": [
        "#classifying data after node has required purity\n",
        "def classify_end_data(data):\n",
        "    label_col = data[:, 81]\n",
        "    label, label_counts = np.unique(label_col, return_counts = True)\n",
        "    ind = label_counts.argmax()\n",
        "    classification = label[ind] \n",
        "    return classification"
      ],
      "execution_count": null,
      "outputs": []
    },
    {
      "cell_type": "code",
      "metadata": {
        "id": "cx6_iukPdPd_"
      },
      "source": [
        "def check_purity(data):\n",
        "    purity = calc_gini_index(data)\n",
        "    if purity < 0.00001:\n",
        "        label = classify_end_data(data)\n",
        "        "
      ],
      "execution_count": null,
      "outputs": []
    },
    {
      "cell_type": "code",
      "metadata": {
        "id": "8oLA348YUNaX"
      },
      "source": [
        "def split_data(data, split_val, col):\n",
        "\n",
        "    splitL = np.empty([82,])\n",
        "    splitR = np.empty([82,])\n",
        "\n",
        "    for i in range(len(data)):\n",
        "        if data[i, col] <= split_val:\n",
        "            splitL = np.concatenate((splitL, data[i, :]))\n",
        "        elif data[i, col] > split_val:\n",
        "            splitR = np.concatenate((splitR, data[i, :]))\n",
        "    splitL = splitL[82:]\n",
        "    splitR = splitR[82:]\n",
        "    colindL = len(splitL) // 82\n",
        "    colindR = len(splitR) //82\n",
        "    if splitL.shape[0] > 0:\n",
        "        splitL = splitL.reshape([colindL, 82])\n",
        "    if splitR.shape[0] > 0:\n",
        "        splitR = splitR.reshape([colindR, 82])\n",
        "    return splitL, splitR\n",
        "         \n",
        "\n"
      ],
      "execution_count": null,
      "outputs": []
    },
    {
      "cell_type": "code",
      "metadata": {
        "id": "iacdAHyzcknK"
      },
      "source": [
        "def find_best_split(data):\n",
        "    best_info_gain = 0\n",
        "    split_value = 0\n",
        "    pos_splits = get_possible_splits(data)\n",
        "    for i in range(len(data.T)-1):\n",
        "        for e in range(16):\n",
        "            split_val = pos_splits[i][e]\n",
        "            splitL, splitR = split_data(data, split_val, i)\n",
        "            if len(splitL) > 0 and len(splitR) > 0:\n",
        "                info_gain = information_gain(data, splitL, splitR)\n",
        "                if info_gain > best_info_gain:\n",
        "                    best_info_gain = info_gain\n",
        "                    col = i\n",
        "                    fin_split_val = split_val\n",
        "                    spltLfin = splitL\n",
        "                    spltRfin = splitR\n",
        "    \n",
        "\n",
        "    return col, fin_split_val, spltLfin, spltRfin\n",
        "\n",
        "\n",
        "col, fin_split_val, _, _ = find_best_split(data)\n",
        "print(col)\n",
        "print(fin_split_val)"
      ],
      "execution_count": null,
      "outputs": []
    },
    {
      "cell_type": "code",
      "metadata": {
        "id": "VlUSJVreOnc8"
      },
      "source": [
        "#uses dictionaries within dictonary to represent the decision tree\n",
        "\n",
        "def grow_tree(data):\n",
        "    print(\"---------------\")\n",
        "    print(len(data))\n",
        "    print(calc_gini_index(data))\n",
        "    print(np.count_nonzero(data[:, 81] > 0))\n",
        "    purity = calc_gini_index(data)\n",
        "\n",
        "    if purity < 0.05:\n",
        "        classification = classify_end_data(data)\n",
        "        print(classification)\n",
        "        return classification\n",
        "\n",
        "    else:\n",
        "        col, fin_split_val, splitLfin, splitRfin = find_best_split(data)\n",
        "        splitL, splitR = split_data(data, fin_split_val, col)\n",
        "        question = \"{} <= {}\".format(col, fin_split_val)\n",
        "        sub_tree = {question:[]}\n",
        "\n",
        "        splitLQ, splitRQ = grow_tree(splitL), grow_tree(splitR)\n",
        "\n",
        "        sub_tree[question].append(splitLQ)\n",
        "        sub_tree[question].append(splitRQ)\n",
        "        return sub_tree\n",
        "\n",
        "y = grow_tree(data)\n",
        "print(y)\n"
      ],
      "execution_count": null,
      "outputs": []
    },
    {
      "cell_type": "code",
      "metadata": {
        "id": "SWnDhuhsvmyL"
      },
      "source": [
        "f = open(\"/content/drive/My Drive/Colab Notebooks/Training Data Testing/tree.txt\", \"w\")\n",
        "f.write(str(y))\n",
        "f.close()"
      ],
      "execution_count": null,
      "outputs": []
    },
    {
      "cell_type": "code",
      "metadata": {
        "id": "u6K1Cd9g3-kz"
      },
      "source": [
        ""
      ],
      "execution_count": null,
      "outputs": []
    }
  ]
}